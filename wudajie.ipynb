{
 "cells": [
  {
   "cell_type": "code",
   "execution_count": 4,
   "metadata": {
    "collapsed": true
   },
   "outputs": [],
   "source": [
    "import networkx as nx\n",
    "%matplotlib inline\n",
    "import matplotlib.pyplot as plt"
   ]
  },
  {
   "cell_type": "code",
   "execution_count": 25,
   "metadata": {
    "collapsed": true
   },
   "outputs": [],
   "source": [
    "#构建这个图  把第一个连续剧的 Non_2P关系导入\n",
    "G=nx.DiGraph()\n",
    "\n",
    "G.add_edge('Takeshi','Sumiko',weight=11.0)\n",
    "G.add_edge('Seiji','Takeshi',weight=97.0)\n",
    "G.add_edge('Takeshi','Seiji',weight=97.0)\n",
    "G.add_edge('Seiji','Sumiko',weight=4.0)\n",
    "G.add_edge('Fumiya\\'s mother','Ayako',weight=18.0)\n",
    "G.add_edge('Ayako','Tomoya',weight=4.0)\n",
    "G.add_edge('Tomoya','Ayako',weight=3.0)\n",
    "G.add_edge('Ayako','Seiji',weight=37.0)\n",
    "G.add_edge('Ayako','Takeshi',weight=24.0)\n",
    "G.add_edge('Takeshi','Ayako',weight=30.0)\n",
    "G.add_edge('Seiji','Ayako',weight=13.0)\n",
    "G.add_edge('Ayako','Fumiya\\'s mother',weight=14.0)\n",
    "G.add_edge('Fumiya\\'s mother','Takeshi',weight=1.0)\n",
    "G.add_edge('Fumiya','Ayako',weight=1.0)"
   ]
  },
  {
   "cell_type": "code",
   "execution_count": 39,
   "metadata": {
    "collapsed": false
   },
   "outputs": [
    {
     "data": {
      "image/png": "[encoded data removed]",
      "text/plain": [
       "<matplotlib.figure.Figure at 0x1031b1b70>"
      ]
     },
     "metadata": {},
     "output_type": "display_data"
    }
   ],
   "source": [
    "nx.draw_networkx(G)\n",
    "limits=plt.axis('off')"
   ]
  },
  {
   "cell_type": "markdown",
   "metadata": {},
   "source": [
    "# Degree 简单理解为连了几根线\n"
   ]
  },
  {
   "cell_type": "code",
   "execution_count": 40,
   "metadata": {
    "collapsed": false
   },
   "outputs": [
    {
     "data": {
      "text/plain": [
       "{'Ayako': 9,\n",
       " 'Fumiya': 1,\n",
       " \"Fumiya's mother\": 3,\n",
       " 'Seiji': 5,\n",
       " 'Sumiko': 2,\n",
       " 'Takeshi': 6,\n",
       " 'Tomoya': 2}"
      ]
     },
     "execution_count": 40,
     "metadata": {},
     "output_type": "execute_result"
    }
   ],
   "source": [
    "#in and out 的线的总和 因为线是有方向性的\n",
    "G.degree()"
   ]
  },
  {
   "cell_type": "code",
   "execution_count": 41,
   "metadata": {
    "collapsed": false
   },
   "outputs": [
    {
     "data": {
      "text/plain": [
       "{'Ayako': 4,\n",
       " 'Fumiya': 1,\n",
       " \"Fumiya's mother\": 2,\n",
       " 'Seiji': 3,\n",
       " 'Sumiko': 0,\n",
       " 'Takeshi': 3,\n",
       " 'Tomoya': 1}"
      ]
     },
     "execution_count": 41,
     "metadata": {},
     "output_type": "execute_result"
    }
   ],
   "source": [
    "# No. of out link/edge\n",
    "G.out_degree()"
   ]
  },
  {
   "cell_type": "code",
   "execution_count": 42,
   "metadata": {
    "collapsed": false
   },
   "outputs": [
    {
     "data": {
      "text/plain": [
       "{'Ayako': 5,\n",
       " 'Fumiya': 0,\n",
       " \"Fumiya's mother\": 1,\n",
       " 'Seiji': 2,\n",
       " 'Sumiko': 2,\n",
       " 'Takeshi': 3,\n",
       " 'Tomoya': 1}"
      ]
     },
     "execution_count": 42,
     "metadata": {},
     "output_type": "execute_result"
    }
   ],
   "source": [
    "# No. of in link/dege 代表这个语法的使用的时候的听话人\n",
    "G.in_degree()"
   ]
  },
  {
   "cell_type": "markdown",
   "metadata": {},
   "source": [
    "# google搜索引擎的最早期算法 pagerank"
   ]
  },
  {
   "cell_type": "code",
   "execution_count": 31,
   "metadata": {
    "collapsed": false
   },
   "outputs": [
    {
     "data": {
      "text/plain": [
       "{'Ayako': 0.21838712267847998,\n",
       " 'Fumiya': 0.028427225005315603,\n",
       " \"Fumiya's mother\": 0.06132367913349179,\n",
       " 'Seiji': 0.2952765040271855,\n",
       " 'Sumiko': 0.057635789755260305,\n",
       " 'Takeshi': 0.30112346750118657,\n",
       " 'Tomoya': 0.037826211899080225}"
      ]
     },
     "execution_count": 31,
     "metadata": {},
     "output_type": "execute_result"
    }
   ],
   "source": [
    "#他是能量/权重 传递的一个简单的可以理解为  “最适合”被用这个语法的听话者 排名。 \n",
    "#你看 Takeshi和各种人都用但是这个算法算出来 他并不是第一的 \n",
    "nx.pagerank(G)"
   ]
  },
  {
   "cell_type": "markdown",
   "metadata": {},
   "source": [
    "# 看一下graph的 centrality 主要看最简单的betweenness还有closeness"
   ]
  },
  {
   "cell_type": "code",
   "execution_count": 43,
   "metadata": {
    "collapsed": false
   },
   "outputs": [
    {
     "data": {
      "text/plain": [
       "{'Ayako': 0.6944444444444445,\n",
       " 'Fumiya': 0.5,\n",
       " \"Fumiya's mother\": 0.5208333333333334,\n",
       " 'Seiji': 0.5952380952380952,\n",
       " 'Sumiko': 0.0,\n",
       " 'Takeshi': 0.5952380952380952,\n",
       " 'Tomoya': 0.4166666666666667}"
      ]
     },
     "execution_count": 43,
     "metadata": {},
     "output_type": "execute_result"
    }
   ],
   "source": [
    "nx.closeness_centrality(G)"
   ]
  },
  {
   "cell_type": "code",
   "execution_count": 44,
   "metadata": {
    "collapsed": false
   },
   "outputs": [
    {
     "data": {
      "text/plain": [
       "{'Ayako': 0.48333333333333334,\n",
       " 'Fumiya': 0.0,\n",
       " \"Fumiya's mother\": 0.0,\n",
       " 'Seiji': 0.05,\n",
       " 'Sumiko': 0.0,\n",
       " 'Takeshi': 0.1,\n",
       " 'Tomoya': 0.0}"
      ]
     },
     "execution_count": 44,
     "metadata": {},
     "output_type": "execute_result"
    }
   ],
   "source": [
    "nx.betweenness_centrality(G)"
   ]
  },
  {
   "cell_type": "code",
   "execution_count": null,
   "metadata": {
    "collapsed": true
   },
   "outputs": [],
   "source": [
    "#结论有一些惊讶。不过你回去看一下图就明白了 Ayako 单独连了几个人都是其他人没有链的\n",
    "#等于Ayako 反而是成为了图片的中心。不是 Takeshi 或者Tomoya"
   ]
  },
  {
   "cell_type": "markdown",
   "metadata": {},
   "source": [
    "# 这个是看自己的degree和自己邻居的平均degree"
   ]
  },
  {
   "cell_type": "code",
   "execution_count": 57,
   "metadata": {
    "collapsed": false
   },
   "outputs": [],
   "source": [
    "mix = nx.average_degree_connectivity(G)"
   ]
  },
  {
   "cell_type": "code",
   "execution_count": 60,
   "metadata": {
    "collapsed": false
   },
   "outputs": [
    {
     "data": {
      "image/png": "[encoded data removed]",
      "text/plain": [
       "<matplotlib.figure.Figure at 0x10eec8cf8>"
      ]
     },
     "metadata": {},
     "output_type": "display_data"
    }
   ],
   "source": [
    "plt.scatter(list(mix.keys()),list(mix.values()))\n",
    "plt.title(\"Mixing Pattern\")\n",
    "plt.ylabel(\"Knn(k)\")\n",
    "plt.xlabel(\"degree(k)\")\n",
    "#plt.ylim([-0.03,0.2])\n",
    "plt.xlim([0,10])\n",
    "plt.show()"
   ]
  }
 ],
 "metadata": {
  "anaconda-cloud": {},
  "kernelspec": {
   "display_name": "Python [default]",
   "language": "python",
   "name": "python3"
  },
  "language_info": {
   "codemirror_mode": {
    "name": "ipython",
    "version": 3
   },
   "file_extension": ".py",
   "mimetype": "text/x-python",
   "name": "python",
   "nbconvert_exporter": "python",
   "pygments_lexer": "ipython3",
   "version": "3.5.2"
  }
 },
 "nbformat": 4,
 "nbformat_minor": 1
}
